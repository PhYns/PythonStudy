{
 "cells": [
  {
   "cell_type": "markdown",
   "id": "7288db74-8ca0-4c4c-8dc1-23c321461c09",
   "metadata": {},
   "source": [
    "Creating Pyspark session"
   ]
  },
  {
   "cell_type": "code",
   "execution_count": 2,
   "id": "cfe133e5-e8d0-4365-94e8-f41c54b8a1df",
   "metadata": {},
   "outputs": [],
   "source": [
    "from pyspark.sql import SparkSession\n",
    "SparkSession = SparkSession.builder.appName(\"Challenge M4 - DataScience\").getOrCreate()"
   ]
  },
  {
   "cell_type": "markdown",
   "id": "38940f75-a446-4d64-9004-6d1b2e0ac528",
   "metadata": {},
   "source": [
    "Reading Prouni Data"
   ]
  },
  {
   "cell_type": "code",
   "execution_count": 6,
   "id": "a5305430-9d9d-4e7b-bcc8-11a2abcf66d1",
   "metadata": {},
   "outputs": [
    {
     "name": "stdout",
     "output_type": "stream",
     "text": [
      "+-------------------+---------------------+------------------------------------------+--------------+-----------------------+-------------------------------------+----------------------+-----------------------+-----------------------+--------------------------+-----+------------------------------+-------------------------+---------------------------+---------+\n",
      "|ANO_CONCESSAO_BOLSA|CODIGO_EMEC_IES_BOLSA|NOME_IES_BOLSA                            |TIPO_BOLSA    |MODALIDADE_ENSINO_BOLSA|NOME_CURSO_BOLSA                     |NOME_TURNO_CURSO_BOLSA|SEXO_BENEFICIARIO_BOLSA|RACA_BENEFICIARIO_BOLSA|DT_NASCIMENTO_BENEFICIARIO|IDADE|BENEFICIARIO_DEFICIENTE_FISICO|REGIAO_BENEFICIARIO_BOLSA|SIGLA_UF_BENEFICIARIO_BOLSA|QTD_BOLSA|\n",
      "+-------------------+---------------------+------------------------------------------+--------------+-----------------------+-------------------------------------+----------------------+-----------------------+-----------------------+--------------------------+-----+------------------------------+-------------------------+---------------------------+---------+\n",
      "|2019               |10                   |PONTIFÍCIA UNIVERSIDADE CATÓLICA DO PARANÁ|BOLSA INTEGRAL|EAD                    |Administração                        |Curso a distância     |M                      |Branca                 |1993-08-19                |26   |NÃO                           |Sul                      |PR                         |1        |\n",
      "|2019               |10                   |PONTIFÍCIA UNIVERSIDADE CATÓLICA DO PARANÁ|BOLSA INTEGRAL|EAD                    |Administração                        |Curso a distância     |F                      |Branca                 |1999-11-03                |20   |NÃO                           |Sul                      |PR                         |1        |\n",
      "|2019               |10                   |PONTIFÍCIA UNIVERSIDADE CATÓLICA DO PARANÁ|BOLSA INTEGRAL|EAD                    |Análise E Desenvolvimento De Sistemas|Curso a distância     |M                      |Parda                  |1999-04-02                |20   |NÃO                           |Sul                      |PR                         |1        |\n",
      "|2019               |10                   |PONTIFÍCIA UNIVERSIDADE CATÓLICA DO PARANÁ|BOLSA INTEGRAL|EAD                    |Análise E Desenvolvimento De Sistemas|Curso a distância     |M                      |Branca                 |2000-03-15                |19   |NÃO                           |Sul                      |PR                         |1        |\n",
      "|2019               |10                   |PONTIFÍCIA UNIVERSIDADE CATÓLICA DO PARANÁ|BOLSA INTEGRAL|EAD                    |Análise E Desenvolvimento De Sistemas|Curso a distância     |M                      |Branca                 |1993-05-23                |26   |NÃO                           |Sul                      |PR                         |1        |\n",
      "|2019               |10                   |PONTIFÍCIA UNIVERSIDADE CATÓLICA DO PARANÁ|BOLSA INTEGRAL|EAD                    |Análise E Desenvolvimento De Sistemas|Curso a distância     |F                      |Branca                 |1994-07-30                |25   |NÃO                           |Sul                      |PR                         |1        |\n",
      "|2019               |10                   |PONTIFÍCIA UNIVERSIDADE CATÓLICA DO PARANÁ|BOLSA INTEGRAL|EAD                    |Análise E Desenvolvimento De Sistemas|Curso a distância     |M                      |Preta                  |1998-11-03                |21   |NÃO                           |Sul                      |PR                         |1        |\n",
      "|2019               |10                   |PONTIFÍCIA UNIVERSIDADE CATÓLICA DO PARANÁ|BOLSA INTEGRAL|EAD                    |Análise E Desenvolvimento De Sistemas|Curso a distância     |M                      |Branca                 |1998-10-18                |21   |NÃO                           |Sul                      |PR                         |1        |\n",
      "|2019               |10                   |PONTIFÍCIA UNIVERSIDADE CATÓLICA DO PARANÁ|BOLSA INTEGRAL|EAD                    |Análise E Desenvolvimento De Sistemas|Curso a distância     |M                      |Branca                 |1995-09-01                |24   |NÃO                           |Sul                      |PR                         |1        |\n",
      "|2019               |10                   |PONTIFÍCIA UNIVERSIDADE CATÓLICA DO PARANÁ|BOLSA INTEGRAL|EAD                    |Análise E Desenvolvimento De Sistemas|Curso a distância     |M                      |Branca                 |1997-01-31                |22   |NÃO                           |Sul                      |PR                         |1        |\n",
      "|2019               |10                   |PONTIFÍCIA UNIVERSIDADE CATÓLICA DO PARANÁ|BOLSA INTEGRAL|EAD                    |Análise E Desenvolvimento De Sistemas|Curso a distância     |M                      |Amarela                |1996-03-15                |23   |NÃO                           |Sul                      |PR                         |1        |\n",
      "|2019               |10                   |PONTIFÍCIA UNIVERSIDADE CATÓLICA DO PARANÁ|BOLSA INTEGRAL|EAD                    |Análise E Desenvolvimento De Sistemas|Curso a distância     |F                      |Branca                 |1997-10-13                |22   |NÃO                           |Sul                      |PR                         |1        |\n",
      "|2019               |10                   |PONTIFÍCIA UNIVERSIDADE CATÓLICA DO PARANÁ|BOLSA INTEGRAL|EAD                    |Análise E Desenvolvimento De Sistemas|Curso a distância     |M                      |Parda                  |1994-11-03                |25   |NÃO                           |Sul                      |PR                         |1        |\n",
      "|2019               |10                   |PONTIFÍCIA UNIVERSIDADE CATÓLICA DO PARANÁ|BOLSA INTEGRAL|EAD                    |Análise E Desenvolvimento De Sistemas|Curso a distância     |M                      |Parda                  |1996-12-23                |23   |NÃO                           |Sul                      |PR                         |1        |\n",
      "|2019               |10                   |PONTIFÍCIA UNIVERSIDADE CATÓLICA DO PARANÁ|BOLSA INTEGRAL|EAD                    |Análise E Desenvolvimento De Sistemas|Curso a distância     |M                      |Parda                  |2000-08-01                |19   |NÃO                           |Sul                      |PR                         |1        |\n",
      "|2019               |10                   |PONTIFÍCIA UNIVERSIDADE CATÓLICA DO PARANÁ|BOLSA INTEGRAL|EAD                    |Análise E Desenvolvimento De Sistemas|Curso a distância     |M                      |Branca                 |1993-01-09                |26   |NÃO                           |Sul                      |PR                         |1        |\n",
      "|2019               |10                   |PONTIFÍCIA UNIVERSIDADE CATÓLICA DO PARANÁ|BOLSA INTEGRAL|EAD                    |Big Data E Inteligência Analítica    |Curso a distância     |M                      |Preta                  |1994-02-16                |25   |NÃO                           |Sul                      |PR                         |1        |\n",
      "|2019               |10                   |PONTIFÍCIA UNIVERSIDADE CATÓLICA DO PARANÁ|BOLSA INTEGRAL|EAD                    |Big Data E Inteligência Analítica    |Curso a distância     |M                      |Branca                 |1981-04-08                |38   |NÃO                           |Sul                      |PR                         |1        |\n",
      "|2019               |10                   |PONTIFÍCIA UNIVERSIDADE CATÓLICA DO PARANÁ|BOLSA INTEGRAL|EAD                    |Big Data E Inteligência Analítica    |Curso a distância     |M                      |Branca                 |1998-12-16                |21   |NÃO                           |Sul                      |PR                         |1        |\n",
      "|2019               |10                   |PONTIFÍCIA UNIVERSIDADE CATÓLICA DO PARANÁ|BOLSA INTEGRAL|EAD                    |Big Data E Inteligência Analítica    |Curso a distância     |M                      |Branca                 |1999-03-27                |20   |NÃO                           |Sul                      |PR                         |1        |\n",
      "+-------------------+---------------------+------------------------------------------+--------------+-----------------------+-------------------------------------+----------------------+-----------------------+-----------------------+--------------------------+-----+------------------------------+-------------------------+---------------------------+---------+\n",
      "only showing top 20 rows\n",
      "\n"
     ]
    }
   ],
   "source": [
    "prouniData = SparkSession.read.parquet(\"prouni-2019-2015.parquet\")\n",
    "prouniData.show(truncate=False)"
   ]
  },
  {
   "cell_type": "markdown",
   "id": "eeda68af-a8b1-4c0f-9b58-7480c9ebc13a",
   "metadata": {},
   "source": [
    "Verify null columns"
   ]
  },
  {
   "cell_type": "code",
   "execution_count": 7,
   "id": "fc406ec3-768f-409b-a7f6-a39845a9e57f",
   "metadata": {},
   "outputs": [
    {
     "ename": "AnalysisException",
     "evalue": "cannot resolve 'isnan(DT_NASCIMENTO_BENEFICIARIO)' due to data type mismatch: argument 1 requires (double or float) type, however, 'DT_NASCIMENTO_BENEFICIARIO' is of date type.;\n'Aggregate [count(CASE WHEN isnan(cast(ANO_CONCESSAO_BOLSA#125 as double)) THEN ANO_CONCESSAO_BOLSA END) AS ANO_CONCESSAO_BOLSA#218L, count(CASE WHEN isnan(cast(CODIGO_EMEC_IES_BOLSA#126 as double)) THEN CODIGO_EMEC_IES_BOLSA END) AS CODIGO_EMEC_IES_BOLSA#220L, count(CASE WHEN isnan(cast(NOME_IES_BOLSA#127 as double)) THEN NOME_IES_BOLSA END) AS NOME_IES_BOLSA#222L, count(CASE WHEN isnan(cast(TIPO_BOLSA#128 as double)) THEN TIPO_BOLSA END) AS TIPO_BOLSA#224L, count(CASE WHEN isnan(cast(MODALIDADE_ENSINO_BOLSA#129 as double)) THEN MODALIDADE_ENSINO_BOLSA END) AS MODALIDADE_ENSINO_BOLSA#226L, count(CASE WHEN isnan(cast(NOME_CURSO_BOLSA#130 as double)) THEN NOME_CURSO_BOLSA END) AS NOME_CURSO_BOLSA#228L, count(CASE WHEN isnan(cast(NOME_TURNO_CURSO_BOLSA#131 as double)) THEN NOME_TURNO_CURSO_BOLSA END) AS NOME_TURNO_CURSO_BOLSA#230L, count(CASE WHEN isnan(cast(SEXO_BENEFICIARIO_BOLSA#132 as double)) THEN SEXO_BENEFICIARIO_BOLSA END) AS SEXO_BENEFICIARIO_BOLSA#232L, count(CASE WHEN isnan(cast(RACA_BENEFICIARIO_BOLSA#133 as double)) THEN RACA_BENEFICIARIO_BOLSA END) AS RACA_BENEFICIARIO_BOLSA#234L, count(CASE WHEN isnan(DT_NASCIMENTO_BENEFICIARIO#134) THEN DT_NASCIMENTO_BENEFICIARIO END) AS DT_NASCIMENTO_BENEFICIARIO#236, count(CASE WHEN isnan(cast(IDADE#135 as double)) THEN IDADE END) AS IDADE#238L, count(CASE WHEN isnan(cast(BENEFICIARIO_DEFICIENTE_FISICO#136 as double)) THEN BENEFICIARIO_DEFICIENTE_FISICO END) AS BENEFICIARIO_DEFICIENTE_FISICO#240L, count(CASE WHEN isnan(cast(REGIAO_BENEFICIARIO_BOLSA#137 as double)) THEN REGIAO_BENEFICIARIO_BOLSA END) AS REGIAO_BENEFICIARIO_BOLSA#242L, count(CASE WHEN isnan(cast(SIGLA_UF_BENEFICIARIO_BOLSA#138 as double)) THEN SIGLA_UF_BENEFICIARIO_BOLSA END) AS SIGLA_UF_BENEFICIARIO_BOLSA#244L, count(CASE WHEN isnan(cast(QTD_BOLSA#139 as double)) THEN QTD_BOLSA END) AS QTD_BOLSA#246L]\n+- Relation [ANO_CONCESSAO_BOLSA#125,CODIGO_EMEC_IES_BOLSA#126,NOME_IES_BOLSA#127,TIPO_BOLSA#128,MODALIDADE_ENSINO_BOLSA#129,NOME_CURSO_BOLSA#130,NOME_TURNO_CURSO_BOLSA#131,SEXO_BENEFICIARIO_BOLSA#132,RACA_BENEFICIARIO_BOLSA#133,DT_NASCIMENTO_BENEFICIARIO#134,IDADE#135,BENEFICIARIO_DEFICIENTE_FISICO#136,REGIAO_BENEFICIARIO_BOLSA#137,SIGLA_UF_BENEFICIARIO_BOLSA#138,QTD_BOLSA#139] parquet\n",
     "output_type": "error",
     "traceback": [
      "\u001b[1;31m---------------------------------------------------------------------------\u001b[0m",
      "\u001b[1;31mAnalysisException\u001b[0m                         Traceback (most recent call last)",
      "\u001b[1;32mf:\\Git\\Study\\Python\\Data Science\\Prouni\\Prouni Analysis.ipynb Célula: 6\u001b[0m in \u001b[0;36m<cell line: 2>\u001b[1;34m()\u001b[0m\n\u001b[0;32m      <a href='vscode-notebook-cell:/f%3A/Git/Study/Python/Data%20Science/Prouni/Prouni%20Analysis.ipynb#ch0000005?line=0'>1</a>\u001b[0m \u001b[39mfrom\u001b[39;00m \u001b[39mpyspark\u001b[39;00m\u001b[39m.\u001b[39;00m\u001b[39msql\u001b[39;00m\u001b[39m.\u001b[39;00m\u001b[39mfunctions\u001b[39;00m \u001b[39mimport\u001b[39;00m isnan, when, count\n\u001b[1;32m----> <a href='vscode-notebook-cell:/f%3A/Git/Study/Python/Data%20Science/Prouni/Prouni%20Analysis.ipynb#ch0000005?line=1'>2</a>\u001b[0m prouniData\u001b[39m.\u001b[39;49mselect([count(when(isnan(c), c))\u001b[39m.\u001b[39;49malias(c) \u001b[39mfor\u001b[39;49;00m c \u001b[39min\u001b[39;49;00m prouniData\u001b[39m.\u001b[39;49mcolumns])\u001b[39m.\u001b[39mshow()\n",
      "File \u001b[1;32mc:\\Python310\\lib\\site-packages\\pyspark\\sql\\dataframe.py:2023\u001b[0m, in \u001b[0;36mDataFrame.select\u001b[1;34m(self, *cols)\u001b[0m\n\u001b[0;32m   2002\u001b[0m \u001b[39mdef\u001b[39;00m \u001b[39mselect\u001b[39m(\u001b[39mself\u001b[39m, \u001b[39m*\u001b[39mcols: \u001b[39m\"\u001b[39m\u001b[39mColumnOrName\u001b[39m\u001b[39m\"\u001b[39m) \u001b[39m-\u001b[39m\u001b[39m>\u001b[39m \u001b[39m\"\u001b[39m\u001b[39mDataFrame\u001b[39m\u001b[39m\"\u001b[39m:  \u001b[39m# type: ignore[misc]\u001b[39;00m\n\u001b[0;32m   2003\u001b[0m     \u001b[39m\"\"\"Projects a set of expressions and returns a new :class:`DataFrame`.\u001b[39;00m\n\u001b[0;32m   2004\u001b[0m \n\u001b[0;32m   2005\u001b[0m \u001b[39m    .. versionadded:: 1.3.0\u001b[39;00m\n\u001b[1;32m   (...)\u001b[0m\n\u001b[0;32m   2021\u001b[0m \u001b[39m    [Row(name='Alice', age=12), Row(name='Bob', age=15)]\u001b[39;00m\n\u001b[0;32m   2022\u001b[0m \u001b[39m    \"\"\"\u001b[39;00m\n\u001b[1;32m-> 2023\u001b[0m     jdf \u001b[39m=\u001b[39m \u001b[39mself\u001b[39;49m\u001b[39m.\u001b[39;49m_jdf\u001b[39m.\u001b[39;49mselect(\u001b[39mself\u001b[39;49m\u001b[39m.\u001b[39;49m_jcols(\u001b[39m*\u001b[39;49mcols))\n\u001b[0;32m   2024\u001b[0m     \u001b[39mreturn\u001b[39;00m DataFrame(jdf, \u001b[39mself\u001b[39m\u001b[39m.\u001b[39msparkSession)\n",
      "File \u001b[1;32mc:\\Python310\\lib\\site-packages\\py4j\\java_gateway.py:1321\u001b[0m, in \u001b[0;36mJavaMember.__call__\u001b[1;34m(self, *args)\u001b[0m\n\u001b[0;32m   1315\u001b[0m command \u001b[39m=\u001b[39m proto\u001b[39m.\u001b[39mCALL_COMMAND_NAME \u001b[39m+\u001b[39m\\\n\u001b[0;32m   1316\u001b[0m     \u001b[39mself\u001b[39m\u001b[39m.\u001b[39mcommand_header \u001b[39m+\u001b[39m\\\n\u001b[0;32m   1317\u001b[0m     args_command \u001b[39m+\u001b[39m\\\n\u001b[0;32m   1318\u001b[0m     proto\u001b[39m.\u001b[39mEND_COMMAND_PART\n\u001b[0;32m   1320\u001b[0m answer \u001b[39m=\u001b[39m \u001b[39mself\u001b[39m\u001b[39m.\u001b[39mgateway_client\u001b[39m.\u001b[39msend_command(command)\n\u001b[1;32m-> 1321\u001b[0m return_value \u001b[39m=\u001b[39m get_return_value(\n\u001b[0;32m   1322\u001b[0m     answer, \u001b[39mself\u001b[39;49m\u001b[39m.\u001b[39;49mgateway_client, \u001b[39mself\u001b[39;49m\u001b[39m.\u001b[39;49mtarget_id, \u001b[39mself\u001b[39;49m\u001b[39m.\u001b[39;49mname)\n\u001b[0;32m   1324\u001b[0m \u001b[39mfor\u001b[39;00m temp_arg \u001b[39min\u001b[39;00m temp_args:\n\u001b[0;32m   1325\u001b[0m     temp_arg\u001b[39m.\u001b[39m_detach()\n",
      "File \u001b[1;32mc:\\Python310\\lib\\site-packages\\pyspark\\sql\\utils.py:196\u001b[0m, in \u001b[0;36mcapture_sql_exception.<locals>.deco\u001b[1;34m(*a, **kw)\u001b[0m\n\u001b[0;32m    192\u001b[0m converted \u001b[39m=\u001b[39m convert_exception(e\u001b[39m.\u001b[39mjava_exception)\n\u001b[0;32m    193\u001b[0m \u001b[39mif\u001b[39;00m \u001b[39mnot\u001b[39;00m \u001b[39misinstance\u001b[39m(converted, UnknownException):\n\u001b[0;32m    194\u001b[0m     \u001b[39m# Hide where the exception came from that shows a non-Pythonic\u001b[39;00m\n\u001b[0;32m    195\u001b[0m     \u001b[39m# JVM exception message.\u001b[39;00m\n\u001b[1;32m--> 196\u001b[0m     \u001b[39mraise\u001b[39;00m converted \u001b[39mfrom\u001b[39;00m \u001b[39mNone\u001b[39m\n\u001b[0;32m    197\u001b[0m \u001b[39melse\u001b[39;00m:\n\u001b[0;32m    198\u001b[0m     \u001b[39mraise\u001b[39;00m\n",
      "\u001b[1;31mAnalysisException\u001b[0m: cannot resolve 'isnan(DT_NASCIMENTO_BENEFICIARIO)' due to data type mismatch: argument 1 requires (double or float) type, however, 'DT_NASCIMENTO_BENEFICIARIO' is of date type.;\n'Aggregate [count(CASE WHEN isnan(cast(ANO_CONCESSAO_BOLSA#125 as double)) THEN ANO_CONCESSAO_BOLSA END) AS ANO_CONCESSAO_BOLSA#218L, count(CASE WHEN isnan(cast(CODIGO_EMEC_IES_BOLSA#126 as double)) THEN CODIGO_EMEC_IES_BOLSA END) AS CODIGO_EMEC_IES_BOLSA#220L, count(CASE WHEN isnan(cast(NOME_IES_BOLSA#127 as double)) THEN NOME_IES_BOLSA END) AS NOME_IES_BOLSA#222L, count(CASE WHEN isnan(cast(TIPO_BOLSA#128 as double)) THEN TIPO_BOLSA END) AS TIPO_BOLSA#224L, count(CASE WHEN isnan(cast(MODALIDADE_ENSINO_BOLSA#129 as double)) THEN MODALIDADE_ENSINO_BOLSA END) AS MODALIDADE_ENSINO_BOLSA#226L, count(CASE WHEN isnan(cast(NOME_CURSO_BOLSA#130 as double)) THEN NOME_CURSO_BOLSA END) AS NOME_CURSO_BOLSA#228L, count(CASE WHEN isnan(cast(NOME_TURNO_CURSO_BOLSA#131 as double)) THEN NOME_TURNO_CURSO_BOLSA END) AS NOME_TURNO_CURSO_BOLSA#230L, count(CASE WHEN isnan(cast(SEXO_BENEFICIARIO_BOLSA#132 as double)) THEN SEXO_BENEFICIARIO_BOLSA END) AS SEXO_BENEFICIARIO_BOLSA#232L, count(CASE WHEN isnan(cast(RACA_BENEFICIARIO_BOLSA#133 as double)) THEN RACA_BENEFICIARIO_BOLSA END) AS RACA_BENEFICIARIO_BOLSA#234L, count(CASE WHEN isnan(DT_NASCIMENTO_BENEFICIARIO#134) THEN DT_NASCIMENTO_BENEFICIARIO END) AS DT_NASCIMENTO_BENEFICIARIO#236, count(CASE WHEN isnan(cast(IDADE#135 as double)) THEN IDADE END) AS IDADE#238L, count(CASE WHEN isnan(cast(BENEFICIARIO_DEFICIENTE_FISICO#136 as double)) THEN BENEFICIARIO_DEFICIENTE_FISICO END) AS BENEFICIARIO_DEFICIENTE_FISICO#240L, count(CASE WHEN isnan(cast(REGIAO_BENEFICIARIO_BOLSA#137 as double)) THEN REGIAO_BENEFICIARIO_BOLSA END) AS REGIAO_BENEFICIARIO_BOLSA#242L, count(CASE WHEN isnan(cast(SIGLA_UF_BENEFICIARIO_BOLSA#138 as double)) THEN SIGLA_UF_BENEFICIARIO_BOLSA END) AS SIGLA_UF_BENEFICIARIO_BOLSA#244L, count(CASE WHEN isnan(cast(QTD_BOLSA#139 as double)) THEN QTD_BOLSA END) AS QTD_BOLSA#246L]\n+- Relation [ANO_CONCESSAO_BOLSA#125,CODIGO_EMEC_IES_BOLSA#126,NOME_IES_BOLSA#127,TIPO_BOLSA#128,MODALIDADE_ENSINO_BOLSA#129,NOME_CURSO_BOLSA#130,NOME_TURNO_CURSO_BOLSA#131,SEXO_BENEFICIARIO_BOLSA#132,RACA_BENEFICIARIO_BOLSA#133,DT_NASCIMENTO_BENEFICIARIO#134,IDADE#135,BENEFICIARIO_DEFICIENTE_FISICO#136,REGIAO_BENEFICIARIO_BOLSA#137,SIGLA_UF_BENEFICIARIO_BOLSA#138,QTD_BOLSA#139] parquet\n"
     ]
    }
   ],
   "source": [
    "from pyspark.sql.functions import isnan, when, count\n",
    "prouniData.select([count(when(isnan(c), c)).alias(c) for c in prouniData.columns]).show()"
   ]
  },
  {
   "cell_type": "markdown",
   "id": "2fa50630-4234-47c1-ab9b-8fb22df76d49",
   "metadata": {},
   "source": [
    "Top universities in 2019"
   ]
  },
  {
   "cell_type": "code",
   "execution_count": 9,
   "id": "f18ec274-b93d-45c1-b78c-f648fb1e976c",
   "metadata": {},
   "outputs": [
    {
     "name": "stdout",
     "output_type": "stream",
     "text": [
      "+------------------------------------------------+-----+\n",
      "|NOME_IES_BOLSA                                  |count|\n",
      "+------------------------------------------------+-----+\n",
      "|UNIVERSIDADE PAULISTA                           |36618|\n",
      "|CENTRO UNIVERSITÁRIO INTERNACIONAL              |8598 |\n",
      "|UNIVERSIDADE ESTÁCIO DE SÁ                      |7009 |\n",
      "|CENTRO UNIVERSITÁRIO LEONARDO DA VINCI          |5344 |\n",
      "|UNIVERSIDADE PITÁGORAS UNOPAR                   |4864 |\n",
      "|UNIVERSIDADE NOVE DE JULHO                      |4446 |\n",
      "|PONTIFÍCIA UNIVERSIDADE CATÓLICA DE MINAS GERAIS|4342 |\n",
      "|UNIVERSIDADE CEUMA                              |3267 |\n",
      "|UNIVERSIDADE ANHANGUERA                         |2866 |\n",
      "|CENTRO UNIVERSITÁRIO DE MARINGÁ - UNICESUMAR    |2810 |\n",
      "|PONTIFÍCIA UNIVERSIDADE CATÓLICA DO PARANÁ      |2416 |\n",
      "|CENTRO UNIVERSITÁRIO CLARETIANO                 |1949 |\n",
      "|CENTRO UNIVERSITÁRIO ESTÁCIO DE RIBEIRÃO PRETO  |1650 |\n",
      "|UNIVERSIDADE SANTO AMARO                        |1633 |\n",
      "|CENTRO UNIVERSITÁRIO EURO-AMERICANO             |1566 |\n",
      "|FACULDADE EDUCACIONAL DA LAPA                   |1560 |\n",
      "|UNIVERSIDADE CIDADE DE SÃO PAULO                |1515 |\n",
      "|CENTRO UNIVERSITÁRIO FAVIP WYDEN                |1262 |\n",
      "|UNIVERSIDADE SALVADOR                           |1204 |\n",
      "|CENTRO UNIVERSITÁRIO CEUNI - FAMETRO            |1202 |\n",
      "+------------------------------------------------+-----+\n",
      "only showing top 20 rows\n",
      "\n"
     ]
    }
   ],
   "source": [
    "from pyspark.sql.functions import col, desc\n",
    "universitiesScholarships2019 = prouniData.filter(col(\"ANO_CONCESSAO_BOLSA\").contains(\"2019\")).select('NOME_IES_BOLSA').groupBy('NOME_IES_BOLSA')\n",
    "universitiesScholarships2019.count().sort(desc(\"count\")).show(truncate=False)"
   ]
  },
  {
   "cell_type": "markdown",
   "id": "d401f296-5ecd-42f7-88ca-73302a3a7941",
   "metadata": {},
   "source": [
    "Top remote courses in 2019"
   ]
  },
  {
   "cell_type": "code",
   "execution_count": 12,
   "id": "0074b179-7cd4-4835-bee6-d81ed3a7d802",
   "metadata": {},
   "outputs": [
    {
     "name": "stdout",
     "output_type": "stream",
     "text": [
      "+----------+\n",
      "|sum(count)|\n",
      "+----------+\n",
      "|      6272|\n",
      "+----------+\n",
      "\n",
      "+----------------------------------------+-----+\n",
      "|NOME_CURSO_BOLSA                        |count|\n",
      "+----------------------------------------+-----+\n",
      "|Pedagogia                               |730  |\n",
      "|Administração                           |595  |\n",
      "|Educação Física                         |484  |\n",
      "|Ciências Contábeis                      |446  |\n",
      "|Gestão De Recursos Humanos              |277  |\n",
      "|Processos Gerenciais                    |184  |\n",
      "|Logística                               |182  |\n",
      "|Gestão Pública                          |176  |\n",
      "|Pedagogia(Ead)                          |175  |\n",
      "|Análise E Desenvolvimento De Sistemas   |173  |\n",
      "|Engenharia Elétrica                     |158  |\n",
      "|Serviço Social                          |154  |\n",
      "|Engenharia De Produção                  |148  |\n",
      "|História                                |148  |\n",
      "|Gestão De Serviços Jurídicos E Notariais|143  |\n",
      "|Gestão Da Produção Industrial           |142  |\n",
      "|Gestão Financeira                       |131  |\n",
      "|Gestão Comercial                        |118  |\n",
      "|Matemática                              |115  |\n",
      "|Gestão De Segurança Privada             |110  |\n",
      "+----------------------------------------+-----+\n",
      "only showing top 20 rows\n",
      "\n"
     ]
    }
   ],
   "source": [
    "from pyspark.sql.functions import col, desc, sum\n",
    "courses2019 = prouniData.filter(col(\"ANO_CONCESSAO_BOLSA\").contains(\"2019\"))\\\n",
    "                        .filter(col(\"MODALIDADE_ENSINO_BOLSA\").contains(\"EAD\"))\\\n",
    "                        .filter(col(\"TIPO_BOLSA\").contains(\"BOLSA PARCIAL 50%\"))\\\n",
    "                        .select(\"NOME_CURSO_BOLSA\")\\\n",
    "                        .groupBy(\"NOME_CURSO_BOLSA\")\\\n",
    "                        .count()\\\n",
    "                        .sort(desc(\"count\"))\n",
    "\n",
    "courses2019.agg(sum(\"count\")).show()\n",
    "courses2019.show(truncate=False)"
   ]
  },
  {
   "cell_type": "markdown",
   "id": "ae554d3c-4eae-49ff-a8f0-b49026d619e5",
   "metadata": {},
   "source": [
    "Plot graf to see variation of race by year"
   ]
  },
  {
   "cell_type": "code",
   "execution_count": 11,
   "id": "ce7ba70f-a3e1-40d4-8a1c-481f70026a80",
   "metadata": {},
   "outputs": [
    {
     "name": "stdout",
     "output_type": "stream",
     "text": [
      "+-------------------+-----------------------+------+\n",
      "|ANO_CONCESSAO_BOLSA|RACA_BENEFICIARIO_BOLSA| count|\n",
      "+-------------------+-----------------------+------+\n",
      "|               2019|               Indígena|   197|\n",
      "|               2019|                Amarela|  3817|\n",
      "|               2018|                 Branca| 93254|\n",
      "|               2018|                Amarela|  4165|\n",
      "|               2018|               Indígena|   204|\n",
      "|               2017|                  Preta| 30741|\n",
      "|               2017|                 Branca| 94472|\n",
      "|               2017|                Amarela|  4004|\n",
      "|               2019|          Não Informada|     5|\n",
      "|               2019|                  Parda|105705|\n",
      "|               2019|                  Preta| 29456|\n",
      "|               2018|          Não Informada|    22|\n",
      "|               2017|          Não Informada|    13|\n",
      "|               2018|                  Preta| 31239|\n",
      "|               2019|                 Branca| 86375|\n",
      "|               2018|                  Parda|112148|\n",
      "|               2017|               Indígena|   191|\n",
      "|               2017|                  Parda|107215|\n",
      "|               2015|          Não Informada|   118|\n",
      "|               2015|                 Branca| 41859|\n",
      "+-------------------+-----------------------+------+\n",
      "only showing top 20 rows\n",
      "\n"
     ]
    },
    {
     "data": {
      "image/png": "[encoded data removed]",
      "text/plain": [
       "<Figure size 432x288 with 1 Axes>"
      ]
     },
     "metadata": {
      "needs_background": "light"
     },
     "output_type": "display_data"
    }
   ],
   "source": [
    "racebyYear = prouniData.select([c for c in prouniData.columns if c in ['ANO_CONCESSAO_BOLSA','RACA_BENEFICIARIO_BOLSA']])\n",
    "racebyYearGrouped = racebyYear.groupBy('ANO_CONCESSAO_BOLSA','RACA_BENEFICIARIO_BOLSA').count()\n",
    "racebyYearGrouped.show()\n",
    "racebyYearGroupedPandas = racebyYearGrouped.toPandas()\n",
    "\n",
    "import seaborn as sns\n",
    "g = sns.barplot(data=racebyYearGroupedPandas, x='ANO_CONCESSAO_BOLSA', y='count', hue='RACA_BENEFICIARIO_BOLSA')"
   ]
  }
 ],
 "metadata": {
  "kernelspec": {
   "display_name": "Python 3.10.5 64-bit",
   "language": "python",
   "name": "python3"
  },
  "language_info": {
   "codemirror_mode": {
    "name": "ipython",
    "version": 3
   },
   "file_extension": ".py",
   "mimetype": "text/x-python",
   "name": "python",
   "nbconvert_exporter": "python",
   "pygments_lexer": "ipython3",
   "version": "3.10.5"
  },
  "vscode": {
   "interpreter": {
    "hash": "369f2c481f4da34e4445cda3fffd2e751bd1c4d706f27375911949ba6bb62e1c"
   }
  }
 },
 "nbformat": 4,
 "nbformat_minor": 5
}
