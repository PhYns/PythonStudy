{
 "cells": [
  {
   "cell_type": "code",
   "id": "initial_id",
   "metadata": {
    "collapsed": true,
    "ExecuteTime": {
     "end_time": "2024-04-09T02:28:29.388205Z",
     "start_time": "2024-04-09T02:28:28.084664Z"
    }
   },
   "source": [
    "import streamlit as st\n",
    "import pandas as pd\n",
    "import sklearn.linear_model as linear_regresion"
   ],
   "outputs": [],
   "execution_count": 1
  },
  {
   "metadata": {},
   "cell_type": "code",
   "outputs": [
    {
     "data": {
      "text/plain": [
       "          FrqAnual      CusInic\n",
       "count    36.000000    36.000000\n",
       "mean   1134.777778  1291.055556\n",
       "std     158.583211   124.058038\n",
       "min     700.000000  1050.000000\n",
       "25%    1080.000000  1250.000000\n",
       "50%    1162.500000  1277.500000\n",
       "75%    1250.000000  1300.000000\n",
       "max    1375.000000  1830.000000"
      ],
      "text/html": [
       "<div>\n",
       "<style scoped>\n",
       "    .dataframe tbody tr th:only-of-type {\n",
       "        vertical-align: middle;\n",
       "    }\n",
       "\n",
       "    .dataframe tbody tr th {\n",
       "        vertical-align: top;\n",
       "    }\n",
       "\n",
       "    .dataframe thead th {\n",
       "        text-align: right;\n",
       "    }\n",
       "</style>\n",
       "<table border=\"1\" class=\"dataframe\">\n",
       "  <thead>\n",
       "    <tr style=\"text-align: right;\">\n",
       "      <th></th>\n",
       "      <th>FrqAnual</th>\n",
       "      <th>CusInic</th>\n",
       "    </tr>\n",
       "  </thead>\n",
       "  <tbody>\n",
       "    <tr>\n",
       "      <th>count</th>\n",
       "      <td>36.000000</td>\n",
       "      <td>36.000000</td>\n",
       "    </tr>\n",
       "    <tr>\n",
       "      <th>mean</th>\n",
       "      <td>1134.777778</td>\n",
       "      <td>1291.055556</td>\n",
       "    </tr>\n",
       "    <tr>\n",
       "      <th>std</th>\n",
       "      <td>158.583211</td>\n",
       "      <td>124.058038</td>\n",
       "    </tr>\n",
       "    <tr>\n",
       "      <th>min</th>\n",
       "      <td>700.000000</td>\n",
       "      <td>1050.000000</td>\n",
       "    </tr>\n",
       "    <tr>\n",
       "      <th>25%</th>\n",
       "      <td>1080.000000</td>\n",
       "      <td>1250.000000</td>\n",
       "    </tr>\n",
       "    <tr>\n",
       "      <th>50%</th>\n",
       "      <td>1162.500000</td>\n",
       "      <td>1277.500000</td>\n",
       "    </tr>\n",
       "    <tr>\n",
       "      <th>75%</th>\n",
       "      <td>1250.000000</td>\n",
       "      <td>1300.000000</td>\n",
       "    </tr>\n",
       "    <tr>\n",
       "      <th>max</th>\n",
       "      <td>1375.000000</td>\n",
       "      <td>1830.000000</td>\n",
       "    </tr>\n",
       "  </tbody>\n",
       "</table>\n",
       "</div>"
      ]
     },
     "execution_count": 2,
     "metadata": {},
     "output_type": "execute_result"
    }
   ],
   "execution_count": 2,
   "source": [
    "df = pd.read_csv('slr12.csv', header=0, sep=';')\n",
    "df.describe()"
   ],
   "id": "2a8148ca56aa2dbf"
  },
  {
   "metadata": {
    "ExecuteTime": {
     "end_time": "2024-04-09T02:33:26.606449Z",
     "start_time": "2024-04-09T02:33:26.602014Z"
    }
   },
   "cell_type": "code",
   "source": [
    "model = linear_regresion.LinearRegression(n_jobs=-1).fit(df, y=df['CusInic'])\n",
    "print(model)"
   ],
   "id": "52293e4338b6c751",
   "outputs": [
    {
     "name": "stdout",
     "output_type": "stream",
     "text": [
      "LinearRegression(n_jobs=-1)\n"
     ]
    }
   ],
   "execution_count": 9
  },
  {
   "metadata": {},
   "cell_type": "code",
   "outputs": [],
   "execution_count": null,
   "source": "",
   "id": "466bb851328c6f50"
  }
 ],
 "metadata": {
  "kernelspec": {
   "display_name": "Python 3",
   "language": "python",
   "name": "python3"
  },
  "language_info": {
   "codemirror_mode": {
    "name": "ipython",
    "version": 2
   },
   "file_extension": ".py",
   "mimetype": "text/x-python",
   "name": "python",
   "nbconvert_exporter": "python",
   "pygments_lexer": "ipython2",
   "version": "2.7.6"
  }
 },
 "nbformat": 4,
 "nbformat_minor": 5
}
